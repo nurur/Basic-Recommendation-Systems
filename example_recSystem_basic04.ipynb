{
 "cells": [
  {
   "cell_type": "markdown",
   "metadata": {},
   "source": [
    "# Recommender System : Collaborative Filtering\n",
    "### Utility Matrix : Ordinal Ratings \n",
    "\n",
    "#### Part 1 : User-User Filtering \n",
    "1. Pearson Correlation Measure\n",
    "\n",
    "#### Part 2 : Item-Item Filtering\n",
    "1. Cosine Similarity Measure \n",
    "\n",
    "#### Reference : Recommender System, The Textbook : Charu Aggarwal"
   ]
  },
  {
   "cell_type": "code",
   "execution_count": 1,
   "metadata": {},
   "outputs": [],
   "source": [
    "import numpy as np\n",
    "import pandas as pd"
   ]
  },
  {
   "cell_type": "code",
   "execution_count": 2,
   "metadata": {},
   "outputs": [],
   "source": [
    "import os, sys"
   ]
  },
  {
   "cell_type": "markdown",
   "metadata": {},
   "source": [
    "## Data"
   ]
  },
  {
   "cell_type": "code",
   "execution_count": 3,
   "metadata": {},
   "outputs": [],
   "source": [
    "userid = ['user1','user1','user1','user1','user1','user1',\n",
    "          'user2','user2','user2','user2','user2',\n",
    "          'user3','user3','user3','user3',\n",
    "          'user4','user4','user4','user4','user4','user4',\n",
    "          'user5','user5','user5','user5','user5']\n",
    "itemid = ['item1','item2','item3','item4','item5','item6',\n",
    "          'item1','item2','item4','item5','item6',\n",
    "          'item2','item3','item4','item5',\n",
    "          'item1','item2','item3','item4','item5','item6',\n",
    "          'item1','item3','item4','item5','item6',]\n",
    "rating = [7,6,7,4,5,4,\n",
    "         6,7,4,3,4,\n",
    "         3,3,1,1,\n",
    "         1,2,2,3,3,4,\n",
    "         1,1,2,3,3]"
   ]
  },
  {
   "cell_type": "code",
   "execution_count": 4,
   "metadata": {},
   "outputs": [
    {
     "data": {
      "text/html": [
       "<div>\n",
       "<style scoped>\n",
       "    .dataframe tbody tr th:only-of-type {\n",
       "        vertical-align: middle;\n",
       "    }\n",
       "\n",
       "    .dataframe tbody tr th {\n",
       "        vertical-align: top;\n",
       "    }\n",
       "\n",
       "    .dataframe thead th {\n",
       "        text-align: right;\n",
       "    }\n",
       "</style>\n",
       "<table border=\"1\" class=\"dataframe\">\n",
       "  <thead>\n",
       "    <tr style=\"text-align: right;\">\n",
       "      <th></th>\n",
       "      <th>userid</th>\n",
       "      <th>itemid</th>\n",
       "      <th>rating</th>\n",
       "    </tr>\n",
       "  </thead>\n",
       "  <tbody>\n",
       "    <tr>\n",
       "      <th>0</th>\n",
       "      <td>user1</td>\n",
       "      <td>item1</td>\n",
       "      <td>7</td>\n",
       "    </tr>\n",
       "    <tr>\n",
       "      <th>1</th>\n",
       "      <td>user1</td>\n",
       "      <td>item2</td>\n",
       "      <td>6</td>\n",
       "    </tr>\n",
       "    <tr>\n",
       "      <th>2</th>\n",
       "      <td>user1</td>\n",
       "      <td>item3</td>\n",
       "      <td>7</td>\n",
       "    </tr>\n",
       "  </tbody>\n",
       "</table>\n",
       "</div>"
      ],
      "text/plain": [
       "  userid itemid  rating\n",
       "0  user1  item1       7\n",
       "1  user1  item2       6\n",
       "2  user1  item3       7"
      ]
     },
     "execution_count": 4,
     "metadata": {},
     "output_type": "execute_result"
    }
   ],
   "source": [
    "transaction = pd.DataFrame({'userid':userid, 'itemid':itemid, 'rating':rating})\n",
    "transaction.head(3)"
   ]
  },
  {
   "cell_type": "code",
   "execution_count": 5,
   "metadata": {},
   "outputs": [
    {
     "data": {
      "text/html": [
       "<div>\n",
       "<style scoped>\n",
       "    .dataframe tbody tr th:only-of-type {\n",
       "        vertical-align: middle;\n",
       "    }\n",
       "\n",
       "    .dataframe tbody tr th {\n",
       "        vertical-align: top;\n",
       "    }\n",
       "\n",
       "    .dataframe thead th {\n",
       "        text-align: right;\n",
       "    }\n",
       "</style>\n",
       "<table border=\"1\" class=\"dataframe\">\n",
       "  <thead>\n",
       "    <tr style=\"text-align: right;\">\n",
       "      <th></th>\n",
       "      <th>item1</th>\n",
       "      <th>item2</th>\n",
       "      <th>item3</th>\n",
       "      <th>item4</th>\n",
       "      <th>item5</th>\n",
       "      <th>item6</th>\n",
       "    </tr>\n",
       "    <tr>\n",
       "      <th></th>\n",
       "      <th></th>\n",
       "      <th></th>\n",
       "      <th></th>\n",
       "      <th></th>\n",
       "      <th></th>\n",
       "      <th></th>\n",
       "    </tr>\n",
       "  </thead>\n",
       "  <tbody>\n",
       "    <tr>\n",
       "      <th>user1</th>\n",
       "      <td>7.0</td>\n",
       "      <td>6.0</td>\n",
       "      <td>7.0</td>\n",
       "      <td>4.0</td>\n",
       "      <td>5.0</td>\n",
       "      <td>4.0</td>\n",
       "    </tr>\n",
       "    <tr>\n",
       "      <th>user2</th>\n",
       "      <td>6.0</td>\n",
       "      <td>7.0</td>\n",
       "      <td>NaN</td>\n",
       "      <td>4.0</td>\n",
       "      <td>3.0</td>\n",
       "      <td>4.0</td>\n",
       "    </tr>\n",
       "    <tr>\n",
       "      <th>user3</th>\n",
       "      <td>NaN</td>\n",
       "      <td>3.0</td>\n",
       "      <td>3.0</td>\n",
       "      <td>1.0</td>\n",
       "      <td>1.0</td>\n",
       "      <td>NaN</td>\n",
       "    </tr>\n",
       "    <tr>\n",
       "      <th>user4</th>\n",
       "      <td>1.0</td>\n",
       "      <td>2.0</td>\n",
       "      <td>2.0</td>\n",
       "      <td>3.0</td>\n",
       "      <td>3.0</td>\n",
       "      <td>4.0</td>\n",
       "    </tr>\n",
       "    <tr>\n",
       "      <th>user5</th>\n",
       "      <td>1.0</td>\n",
       "      <td>NaN</td>\n",
       "      <td>1.0</td>\n",
       "      <td>2.0</td>\n",
       "      <td>3.0</td>\n",
       "      <td>3.0</td>\n",
       "    </tr>\n",
       "  </tbody>\n",
       "</table>\n",
       "</div>"
      ],
      "text/plain": [
       "       item1  item2  item3  item4  item5  item6\n",
       "                                               \n",
       "user1    7.0    6.0    7.0    4.0    5.0    4.0\n",
       "user2    6.0    7.0    NaN    4.0    3.0    4.0\n",
       "user3    NaN    3.0    3.0    1.0    1.0    NaN\n",
       "user4    1.0    2.0    2.0    3.0    3.0    4.0\n",
       "user5    1.0    NaN    1.0    2.0    3.0    3.0"
      ]
     },
     "execution_count": 5,
     "metadata": {},
     "output_type": "execute_result"
    }
   ],
   "source": [
    "user_item = transaction.pivot(index='userid', columns='itemid', values='rating')\n",
    "user_item.columns.name = ''\n",
    "user_item.index.name = ''\n",
    "user_item"
   ]
  },
  {
   "cell_type": "code",
   "execution_count": 63,
   "metadata": {},
   "outputs": [
    {
     "data": {
      "text/html": [
       "<div>\n",
       "<style scoped>\n",
       "    .dataframe tbody tr th:only-of-type {\n",
       "        vertical-align: middle;\n",
       "    }\n",
       "\n",
       "    .dataframe tbody tr th {\n",
       "        vertical-align: top;\n",
       "    }\n",
       "\n",
       "    .dataframe thead th {\n",
       "        text-align: right;\n",
       "    }\n",
       "</style>\n",
       "<table border=\"1\" class=\"dataframe\">\n",
       "  <thead>\n",
       "    <tr style=\"text-align: right;\">\n",
       "      <th></th>\n",
       "      <th>item1</th>\n",
       "      <th>item2</th>\n",
       "      <th>item3</th>\n",
       "      <th>item4</th>\n",
       "      <th>item5</th>\n",
       "      <th>item6</th>\n",
       "    </tr>\n",
       "    <tr>\n",
       "      <th></th>\n",
       "      <th></th>\n",
       "      <th></th>\n",
       "      <th></th>\n",
       "      <th></th>\n",
       "      <th></th>\n",
       "      <th></th>\n",
       "    </tr>\n",
       "  </thead>\n",
       "  <tbody>\n",
       "    <tr>\n",
       "      <th>user1</th>\n",
       "      <td>1.5</td>\n",
       "      <td>0.5</td>\n",
       "      <td>1.5</td>\n",
       "      <td>-1.5</td>\n",
       "      <td>-0.5</td>\n",
       "      <td>-1.5</td>\n",
       "    </tr>\n",
       "    <tr>\n",
       "      <th>user2</th>\n",
       "      <td>1.2</td>\n",
       "      <td>2.2</td>\n",
       "      <td>NaN</td>\n",
       "      <td>-0.8</td>\n",
       "      <td>-1.8</td>\n",
       "      <td>-0.8</td>\n",
       "    </tr>\n",
       "    <tr>\n",
       "      <th>user3</th>\n",
       "      <td>NaN</td>\n",
       "      <td>1.0</td>\n",
       "      <td>1.0</td>\n",
       "      <td>-1.0</td>\n",
       "      <td>-1.0</td>\n",
       "      <td>NaN</td>\n",
       "    </tr>\n",
       "    <tr>\n",
       "      <th>user4</th>\n",
       "      <td>-1.5</td>\n",
       "      <td>-0.5</td>\n",
       "      <td>-0.5</td>\n",
       "      <td>0.5</td>\n",
       "      <td>0.5</td>\n",
       "      <td>1.5</td>\n",
       "    </tr>\n",
       "    <tr>\n",
       "      <th>user5</th>\n",
       "      <td>-1.0</td>\n",
       "      <td>NaN</td>\n",
       "      <td>-1.0</td>\n",
       "      <td>0.0</td>\n",
       "      <td>1.0</td>\n",
       "      <td>1.0</td>\n",
       "    </tr>\n",
       "  </tbody>\n",
       "</table>\n",
       "</div>"
      ],
      "text/plain": [
       "       item1  item2  item3  item4  item5  item6\n",
       "                                               \n",
       "user1    1.5    0.5    1.5   -1.5   -0.5   -1.5\n",
       "user2    1.2    2.2    NaN   -0.8   -1.8   -0.8\n",
       "user3    NaN    1.0    1.0   -1.0   -1.0    NaN\n",
       "user4   -1.5   -0.5   -0.5    0.5    0.5    1.5\n",
       "user5   -1.0    NaN   -1.0    0.0    1.0    1.0"
      ]
     },
     "execution_count": 63,
     "metadata": {},
     "output_type": "execute_result"
    }
   ],
   "source": [
    "adjusted_user_item = user_item.apply(lambda x : x-np.nanmean(x), axis=1)\n",
    "adjusted_user_item"
   ]
  },
  {
   "cell_type": "markdown",
   "metadata": {},
   "source": [
    "#### Check : User-User Similarity"
   ]
  },
  {
   "cell_type": "code",
   "execution_count": 6,
   "metadata": {},
   "outputs": [
    {
     "data": {
      "text/plain": [
       "0.956"
      ]
     },
     "execution_count": 6,
     "metadata": {},
     "output_type": "execute_result"
    }
   ],
   "source": [
    "# 3 - 1\n",
    "u31 = 6*3 + 7*3 + 4*1 + 5*1\n",
    "u1 = np.sqrt(6**2 +7**2 +4**2 +5**2)\n",
    "u3 = np.sqrt(3**2 +3**2 +1**2 +1**2)\n",
    "round( u31/(u3*u1),3 )"
   ]
  },
  {
   "cell_type": "code",
   "execution_count": 7,
   "metadata": {},
   "outputs": [
    {
     "data": {
      "text/plain": [
       "0.981"
      ]
     },
     "execution_count": 7,
     "metadata": {},
     "output_type": "execute_result"
    }
   ],
   "source": [
    "# 3 - 2\n",
    "u32 = 7*3 + 0*3 + 4*1 + 3*1\n",
    "u2 = np.sqrt(7**2 +0**2 +4**2 +3**2)\n",
    "u3 = np.sqrt(3**2 +0**2 +1**2 +1**2)\n",
    "round( u32/(u3*u2),3 )"
   ]
  },
  {
   "cell_type": "code",
   "execution_count": 8,
   "metadata": {},
   "outputs": [
    {
     "data": {
      "text/plain": [
       "0.789"
      ]
     },
     "execution_count": 8,
     "metadata": {},
     "output_type": "execute_result"
    }
   ],
   "source": [
    "# 3 - 4\n",
    "u34 = 2*3 + 2*3 + 3*1 + 3*1\n",
    "u4 = np.sqrt(2**2 +2**2 +3**2 +3**2)\n",
    "u3 = np.sqrt(3**2 +3**2 +1**2 +1**2)\n",
    "round( u34/(u3*u4),3)"
   ]
  },
  {
   "cell_type": "code",
   "execution_count": 9,
   "metadata": {},
   "outputs": [
    {
     "data": {
      "text/plain": [
       "0.645"
      ]
     },
     "execution_count": 9,
     "metadata": {},
     "output_type": "execute_result"
    }
   ],
   "source": [
    "# 3 - 5\n",
    "u35 = 0*3 + 1*3 + 2*1 + 3*1\n",
    "u5 = np.sqrt(1**2 +0**2 +2**2 +3**2)\n",
    "u3 = np.sqrt(0**2 +3**2 +1**2 +1**2)\n",
    "round( u35/(u3*u5),3)"
   ]
  },
  {
   "cell_type": "markdown",
   "metadata": {},
   "source": [
    "#### Check : Item-Item Similarity"
   ]
  },
  {
   "cell_type": "code",
   "execution_count": 10,
   "metadata": {},
   "outputs": [
    {
     "name": "stdout",
     "output_type": "stream",
     "text": [
      "0.8772\n"
     ]
    }
   ],
   "source": [
    "i51 = 5*7 + 3*6 + 3*1 + 3*1\n",
    "i5 = np.sqrt( 5**2 + 3**2 + 3**2 + 3**2  )\n",
    "i1 = np.sqrt( 7**2 + 6**2 + 1**2 + 1**2  )\n",
    "print( round( i51/(i5*i1),4)  )"
   ]
  },
  {
   "cell_type": "code",
   "execution_count": 11,
   "metadata": {},
   "outputs": [
    {
     "name": "stdout",
     "output_type": "stream",
     "text": [
      "0.9137\n"
     ]
    }
   ],
   "source": [
    "i52 = 5*6 + 3*7 + 1*3 + 3*2\n",
    "i5 = np.sqrt( 5**2 + 3**2 + 1**2 + 3**2  )\n",
    "i2 = np.sqrt( 6**2 + 7**2 + 3**2 + 2**2  )\n",
    "print( round( i52/(i5*i2),4)  )"
   ]
  },
  {
   "cell_type": "code",
   "execution_count": 12,
   "metadata": {},
   "outputs": [
    {
     "name": "stdout",
     "output_type": "stream",
     "text": [
      "0.8927\n"
     ]
    }
   ],
   "source": [
    "i53 = 5*7 + 1*3 + 3*2 + 3*1\n",
    "i5 = np.sqrt( 5**2 + 1**2 + 3**2 + 3**2  )\n",
    "i3 = np.sqrt( 7**2 + 3**2 + 2**2 + 1**2  )\n",
    "print( round( i53/(i5*i3),4)  )"
   ]
  },
  {
   "cell_type": "code",
   "execution_count": 13,
   "metadata": {},
   "outputs": [
    {
     "name": "stdout",
     "output_type": "stream",
     "text": [
      "0.9721\n"
     ]
    }
   ],
   "source": [
    "i54 = 5*4 + 3*4 + 1*1 + 3*3 + 3*2\n",
    "i5 = np.sqrt( 5**2 + 3**2 + 1**2 + 3**2 + 3**2  )\n",
    "i4 = np.sqrt( 4**2 + 4**2 + 1**2 + 3**2 + 2**2 )\n",
    "print( round( i54/(i5*i4),4)  )"
   ]
  },
  {
   "cell_type": "code",
   "execution_count": 14,
   "metadata": {},
   "outputs": [
    {
     "name": "stdout",
     "output_type": "stream",
     "text": [
      "0.9735\n"
     ]
    }
   ],
   "source": [
    "i56 = 5*4 + 3*4 + 3*4 + 3*3\n",
    "i5 = np.sqrt( 5**2 + 3**2 + 3**2 + 3**2  )\n",
    "i6 = np.sqrt( 4**2 + 4**2 + 4**2 + 3**2 )\n",
    "print( round( i56/(i5*i6),4)  )"
   ]
  },
  {
   "cell_type": "markdown",
   "metadata": {},
   "source": [
    "## Similarity Measure"
   ]
  },
  {
   "cell_type": "code",
   "execution_count": 15,
   "metadata": {},
   "outputs": [
    {
     "name": "stdout",
     "output_type": "stream",
     "text": [
      "[3 3 1 5 2]\n",
      "[nan  1.  4.  3. nan]\n"
     ]
    }
   ],
   "source": [
    "a = np.array([3,3,1,5,2])\n",
    "b = np.array([np.nan,1,4,3,np.nan])\n",
    "print(a)\n",
    "print(b)"
   ]
  },
  {
   "cell_type": "code",
   "execution_count": 16,
   "metadata": {},
   "outputs": [
    {
     "name": "stdout",
     "output_type": "stream",
     "text": [
      "[ 0.2  0.2 -1.8  2.2 -0.8]\n",
      "[        nan -1.66666667  1.33333333  0.33333333         nan]\n"
     ]
    }
   ],
   "source": [
    "print( a-np.nanmean(a) )\n",
    "print( b-np.nanmean(b) )"
   ]
  },
  {
   "cell_type": "code",
   "execution_count": 17,
   "metadata": {},
   "outputs": [],
   "source": [
    "def findSimilarity(a,b, mean_adjusted):\n",
    "    \n",
    "    if mean_adjusted:\n",
    "        a = a - np.nanmean(a)\n",
    "        b = b - np.nanmean(b)\n",
    "        \n",
    "    find_nan1 = np.argwhere( np.isnan(a) )\n",
    "    #print(find_nan1, find_nan1.shape, len(find_nan1))\n",
    "    \n",
    "    if len(find_nan1)>0:\n",
    "        nan1 = find_nan1.flatten()\n",
    "    else:\n",
    "        nan1 = np.array([],  dtype='int8')\n",
    "\n",
    "    find_nan2 = np.argwhere( np.isnan(b) )\n",
    "    #print(find_nan2, find_nan2.shape, len(find_nan2))\n",
    "    \n",
    "    if len(find_nan2)>0:\n",
    "        nan2 = find_nan2.flatten()\n",
    "    else:\n",
    "        nan2 = np.array([],  dtype='int8')\n",
    "\n",
    "    nan_indices = np.append( nan1, nan2 )\n",
    "\n",
    "    _a = np.delete(a, nan_indices)\n",
    "    _b = np.delete(b, nan_indices)\n",
    "    \n",
    "    num  = np.sum( np.product((_a,_b), axis=0) )\n",
    "    dnum = np.sqrt( np.dot(_a,_a) ) * np.sqrt( np.dot(_b,_b) )\n",
    "    sim  = round(num/dnum, 4)\n",
    "\n",
    "    #print(sim)\n",
    "    return sim"
   ]
  },
  {
   "cell_type": "markdown",
   "metadata": {},
   "source": [
    "## Part 1: Find User Similarity"
   ]
  },
  {
   "cell_type": "code",
   "execution_count": 59,
   "metadata": {},
   "outputs": [],
   "source": [
    "userlen = user_item.shape[0]\n",
    "sim = np.zeros(userlen*userlen).reshape(userlen,userlen)\n",
    "mean_adjusted = True\n",
    "\n",
    "for i in range(userlen):\n",
    "    for j in range(userlen):\n",
    "        a = user_item.values[i]\n",
    "        b = user_item.values[j]\n",
    "        sim[i,j] = findSimilarity(a,b, mean_adjusted)"
   ]
  },
  {
   "cell_type": "code",
   "execution_count": 60,
   "metadata": {},
   "outputs": [
    {
     "name": "stdout",
     "output_type": "stream",
     "text": [
      "[[ 1.      0.7007  0.8944 -0.8992 -0.822 ]\n",
      " [ 0.7007  1.      0.9385 -0.7171 -0.8987]\n",
      " [ 0.8944  0.9385  1.     -1.     -0.8165]\n",
      " [-0.8992 -0.7171 -1.      1.      0.8729]\n",
      " [-0.822  -0.8987 -0.8165  0.8729  1.    ]]\n"
     ]
    }
   ],
   "source": [
    "np.set_printoptions(precision=4)\n",
    "print( sim )\n",
    "user_user = sim"
   ]
  },
  {
   "cell_type": "code",
   "execution_count": 61,
   "metadata": {},
   "outputs": [
    {
     "data": {
      "text/html": [
       "<div>\n",
       "<style scoped>\n",
       "    .dataframe tbody tr th:only-of-type {\n",
       "        vertical-align: middle;\n",
       "    }\n",
       "\n",
       "    .dataframe tbody tr th {\n",
       "        vertical-align: top;\n",
       "    }\n",
       "\n",
       "    .dataframe thead th {\n",
       "        text-align: right;\n",
       "    }\n",
       "</style>\n",
       "<table border=\"1\" class=\"dataframe\">\n",
       "  <thead>\n",
       "    <tr style=\"text-align: right;\">\n",
       "      <th></th>\n",
       "      <th>level_0</th>\n",
       "      <th>level_1</th>\n",
       "      <th>dist</th>\n",
       "    </tr>\n",
       "  </thead>\n",
       "  <tbody>\n",
       "    <tr>\n",
       "      <th>0</th>\n",
       "      <td>user1</td>\n",
       "      <td>user1</td>\n",
       "      <td>1.0000</td>\n",
       "    </tr>\n",
       "    <tr>\n",
       "      <th>1</th>\n",
       "      <td>user1</td>\n",
       "      <td>user2</td>\n",
       "      <td>0.7007</td>\n",
       "    </tr>\n",
       "    <tr>\n",
       "      <th>2</th>\n",
       "      <td>user1</td>\n",
       "      <td>user3</td>\n",
       "      <td>0.8944</td>\n",
       "    </tr>\n",
       "  </tbody>\n",
       "</table>\n",
       "</div>"
      ],
      "text/plain": [
       "  level_0 level_1    dist\n",
       "0   user1   user1  1.0000\n",
       "1   user1   user2  0.7007\n",
       "2   user1   user3  0.8944"
      ]
     },
     "execution_count": 61,
     "metadata": {},
     "output_type": "execute_result"
    }
   ],
   "source": [
    "user_list = user_item.index.to_list()\n",
    "user_user = pd.DataFrame( user_user, index=user_list, columns=user_list)\n",
    "user_stacked = user_user.stack().reset_index(drop=False).rename(columns={0:'dist'})\n",
    "user_stacked.head(3)"
   ]
  },
  {
   "cell_type": "code",
   "execution_count": 21,
   "metadata": {},
   "outputs": [
    {
     "data": {
      "text/html": [
       "<div>\n",
       "<style scoped>\n",
       "    .dataframe tbody tr th:only-of-type {\n",
       "        vertical-align: middle;\n",
       "    }\n",
       "\n",
       "    .dataframe tbody tr th {\n",
       "        vertical-align: top;\n",
       "    }\n",
       "\n",
       "    .dataframe thead th {\n",
       "        text-align: right;\n",
       "    }\n",
       "</style>\n",
       "<table border=\"1\" class=\"dataframe\">\n",
       "  <thead>\n",
       "    <tr style=\"text-align: right;\">\n",
       "      <th></th>\n",
       "      <th>level_0</th>\n",
       "      <th>level_1</th>\n",
       "      <th>dist</th>\n",
       "    </tr>\n",
       "  </thead>\n",
       "  <tbody>\n",
       "    <tr>\n",
       "      <th>0</th>\n",
       "      <td>user1</td>\n",
       "      <td>user3</td>\n",
       "      <td>0.8944</td>\n",
       "    </tr>\n",
       "    <tr>\n",
       "      <th>1</th>\n",
       "      <td>user1</td>\n",
       "      <td>user2</td>\n",
       "      <td>0.7007</td>\n",
       "    </tr>\n",
       "    <tr>\n",
       "      <th>2</th>\n",
       "      <td>user1</td>\n",
       "      <td>user5</td>\n",
       "      <td>-0.8220</td>\n",
       "    </tr>\n",
       "  </tbody>\n",
       "</table>\n",
       "</div>"
      ],
      "text/plain": [
       "  level_0 level_1    dist\n",
       "0   user1   user3  0.8944\n",
       "1   user1   user2  0.7007\n",
       "2   user1   user5 -0.8220"
      ]
     },
     "execution_count": 21,
     "metadata": {},
     "output_type": "execute_result"
    }
   ],
   "source": [
    "user_sorted = user_stacked.groupby(['level_0']).apply(lambda col: col.sort_values([\"dist\"], ascending=False))\n",
    "user_sorted = user_sorted.reset_index(drop=True)\n",
    "user_clipped = user_sorted[ user_sorted.dist != 1.0 ]\n",
    "user_clipped = user_clipped.reset_index(drop=True)\n",
    "user_clipped.head(3)"
   ]
  },
  {
   "cell_type": "markdown",
   "metadata": {},
   "source": [
    "#### User Similarity Dictionary"
   ]
  },
  {
   "cell_type": "code",
   "execution_count": 22,
   "metadata": {},
   "outputs": [],
   "source": [
    "pearsonDict = {key:[] for key in user_list}\n",
    "\n",
    "keys = user_clipped['level_0'].to_numpy()\n",
    "vals = user_clipped['level_1'].to_numpy()\n",
    "dist = user_clipped['dist'].to_numpy()\n",
    "\n",
    "for i in range( len(keys) ):\n",
    "    if keys[i] in list(pearsonDict.keys()):\n",
    "        pearsonDict[keys[i]].append( (vals[i], round(dist[i],4) ) )\n",
    "    else:\n",
    "        print('The user is not in the record')\n",
    "        "
   ]
  },
  {
   "cell_type": "code",
   "execution_count": 23,
   "metadata": {},
   "outputs": [],
   "source": [
    "def userSimilarity_pearson(euclideanDict, search_item):\n",
    "    if search_item in list(euclideanDict.keys()):\n",
    "        return euclideanDict[search_item]\n",
    "    else:\n",
    "        print('The user is not in the record')"
   ]
  },
  {
   "cell_type": "code",
   "execution_count": 24,
   "metadata": {},
   "outputs": [
    {
     "data": {
      "text/plain": [
       "[('user2', 0.9385), ('user1', 0.8944), ('user5', -0.8165), ('user4', -1.0)]"
      ]
     },
     "execution_count": 24,
     "metadata": {},
     "output_type": "execute_result"
    }
   ],
   "source": [
    "user_weight = userSimilarity_pearson(pearsonDict, 'user3')\n",
    "user_weight"
   ]
  },
  {
   "cell_type": "code",
   "execution_count": 25,
   "metadata": {},
   "outputs": [],
   "source": [
    "#del user_user, user_stacked, user_sorted"
   ]
  },
  {
   "cell_type": "markdown",
   "metadata": {},
   "source": [
    "----------------------------------------------------"
   ]
  },
  {
   "cell_type": "markdown",
   "metadata": {},
   "source": [
    "## Part 2: Find Item Similarity"
   ]
  },
  {
   "cell_type": "code",
   "execution_count": 51,
   "metadata": {},
   "outputs": [],
   "source": [
    "adjusted_user_item = user_item.apply(lambda x : x-np.nanmean(x), axis=1)"
   ]
  },
  {
   "cell_type": "code",
   "execution_count": 52,
   "metadata": {},
   "outputs": [],
   "source": [
    "# user_item.T.apply(lambda x : x-np.nanmean(x), axis=1)"
   ]
  },
  {
   "cell_type": "code",
   "execution_count": 57,
   "metadata": {},
   "outputs": [],
   "source": [
    "item_user = adjusted_user_item.T\n",
    "itemlen   = item_user.shape[0]\n",
    "sim = np.zeros(itemlen*itemlen).reshape(itemlen,itemlen)\n",
    "mean_adjusted = False\n",
    "\n",
    "for i in range(itemlen):\n",
    "    for j in range(itemlen):\n",
    "        a = item_user.values[i]\n",
    "        b = item_user.values[j]\n",
    "        sim[i,j] = findSimilarity(a,b, mean_adjusted)"
   ]
  },
  {
   "cell_type": "code",
   "execution_count": 58,
   "metadata": {},
   "outputs": [
    {
     "name": "stdout",
     "output_type": "stream",
     "text": [
      "[[ 1.      0.7351  0.9117 -0.8483 -0.8125 -0.9896]\n",
      " [ 0.7351  1.      0.8729 -0.7339 -0.996  -0.6223]\n",
      " [ 0.9117  0.8729  1.     -0.8819 -0.8944 -0.9117]\n",
      " [-0.8483 -0.7339 -0.8819  1.      0.7057  0.829 ]\n",
      " [-0.8125 -0.996  -0.8944  0.7057  1.      0.7303]\n",
      " [-0.9896 -0.6223 -0.9117  0.829   0.7303  1.    ]]\n"
     ]
    }
   ],
   "source": [
    "np.set_printoptions(precision=4)\n",
    "print( sim )\n",
    "item_item = sim"
   ]
  },
  {
   "cell_type": "code",
   "execution_count": 28,
   "metadata": {},
   "outputs": [
    {
     "data": {
      "text/html": [
       "<div>\n",
       "<style scoped>\n",
       "    .dataframe tbody tr th:only-of-type {\n",
       "        vertical-align: middle;\n",
       "    }\n",
       "\n",
       "    .dataframe tbody tr th {\n",
       "        vertical-align: top;\n",
       "    }\n",
       "\n",
       "    .dataframe thead th {\n",
       "        text-align: right;\n",
       "    }\n",
       "</style>\n",
       "<table border=\"1\" class=\"dataframe\">\n",
       "  <thead>\n",
       "    <tr style=\"text-align: right;\">\n",
       "      <th></th>\n",
       "      <th>level_0</th>\n",
       "      <th>level_1</th>\n",
       "      <th>dist</th>\n",
       "    </tr>\n",
       "  </thead>\n",
       "  <tbody>\n",
       "    <tr>\n",
       "      <th>0</th>\n",
       "      <td>item1</td>\n",
       "      <td>item1</td>\n",
       "      <td>1.0000</td>\n",
       "    </tr>\n",
       "    <tr>\n",
       "      <th>1</th>\n",
       "      <td>item1</td>\n",
       "      <td>item2</td>\n",
       "      <td>0.9395</td>\n",
       "    </tr>\n",
       "    <tr>\n",
       "      <th>2</th>\n",
       "      <td>item1</td>\n",
       "      <td>item3</td>\n",
       "      <td>0.9462</td>\n",
       "    </tr>\n",
       "  </tbody>\n",
       "</table>\n",
       "</div>"
      ],
      "text/plain": [
       "  level_0 level_1    dist\n",
       "0   item1   item1  1.0000\n",
       "1   item1   item2  0.9395\n",
       "2   item1   item3  0.9462"
      ]
     },
     "execution_count": 28,
     "metadata": {},
     "output_type": "execute_result"
    }
   ],
   "source": [
    "item_list = user_item.columns.to_list()\n",
    "item_item = pd.DataFrame( item_item, index=item_list, columns=item_list)\n",
    "item_stacked = item_item.stack().reset_index(drop=False).rename(columns={0:'dist'})\n",
    "item_stacked.head(3)"
   ]
  },
  {
   "cell_type": "code",
   "execution_count": 29,
   "metadata": {},
   "outputs": [
    {
     "data": {
      "text/html": [
       "<div>\n",
       "<style scoped>\n",
       "    .dataframe tbody tr th:only-of-type {\n",
       "        vertical-align: middle;\n",
       "    }\n",
       "\n",
       "    .dataframe tbody tr th {\n",
       "        vertical-align: top;\n",
       "    }\n",
       "\n",
       "    .dataframe thead th {\n",
       "        text-align: right;\n",
       "    }\n",
       "</style>\n",
       "<table border=\"1\" class=\"dataframe\">\n",
       "  <thead>\n",
       "    <tr style=\"text-align: right;\">\n",
       "      <th></th>\n",
       "      <th>level_0</th>\n",
       "      <th>level_1</th>\n",
       "      <th>dist</th>\n",
       "    </tr>\n",
       "  </thead>\n",
       "  <tbody>\n",
       "    <tr>\n",
       "      <th>1</th>\n",
       "      <td>item1</td>\n",
       "      <td>item3</td>\n",
       "      <td>0.9462</td>\n",
       "    </tr>\n",
       "    <tr>\n",
       "      <th>2</th>\n",
       "      <td>item1</td>\n",
       "      <td>item2</td>\n",
       "      <td>0.9395</td>\n",
       "    </tr>\n",
       "    <tr>\n",
       "      <th>3</th>\n",
       "      <td>item1</td>\n",
       "      <td>item4</td>\n",
       "      <td>0.7885</td>\n",
       "    </tr>\n",
       "  </tbody>\n",
       "</table>\n",
       "</div>"
      ],
      "text/plain": [
       "  level_0 level_1    dist\n",
       "1   item1   item3  0.9462\n",
       "2   item1   item2  0.9395\n",
       "3   item1   item4  0.7885"
      ]
     },
     "execution_count": 29,
     "metadata": {},
     "output_type": "execute_result"
    }
   ],
   "source": [
    "item_sorted = item_stacked.groupby(['level_0']).apply(lambda col: col.sort_values([\"dist\"], ascending=False))\n",
    "item_sorted = item_sorted.reset_index(drop=True)\n",
    "item_sorted = item_sorted[ item_sorted.dist != 1.0 ]\n",
    "item_sorted.head(3)"
   ]
  },
  {
   "cell_type": "markdown",
   "metadata": {},
   "source": [
    "#### User Similarity Dictionary"
   ]
  },
  {
   "cell_type": "code",
   "execution_count": 30,
   "metadata": {},
   "outputs": [],
   "source": [
    "cosineDict = {key:[] for key in item_list}\n",
    "\n",
    "keys = item_sorted['level_0'].to_numpy()\n",
    "vals = item_sorted['level_1'].to_numpy()\n",
    "dist = item_sorted['dist'].to_numpy()\n",
    "\n",
    "for i in range( len(keys) ):\n",
    "    if keys[i] in list(cosineDict.keys()):\n",
    "        cosineDict[keys[i]].append( (vals[i], round(dist[i],4)) )\n",
    "    else:\n",
    "        print('Cosine Measure : The item is not in the list')"
   ]
  },
  {
   "cell_type": "code",
   "execution_count": 31,
   "metadata": {},
   "outputs": [],
   "source": [
    "def userSimilarity_cosine(cosineDict, search_item):\n",
    "    if search_item in list(cosineDict.keys()):\n",
    "        return cosineDict[search_item]\n",
    "    else:\n",
    "        print('Cosine Measure : The item is not in the record')"
   ]
  },
  {
   "cell_type": "code",
   "execution_count": 32,
   "metadata": {},
   "outputs": [
    {
     "data": {
      "text/plain": [
       "[('item1', 0.9395),\n",
       " ('item3', 0.7027),\n",
       " ('item4', 0.684),\n",
       " ('item5', 0.5145),\n",
       " ('item6', 0.2255)]"
      ]
     },
     "execution_count": 32,
     "metadata": {},
     "output_type": "execute_result"
    }
   ],
   "source": [
    "item_weight = userSimilarity_cosine(cosineDict, 'item2')\n",
    "item_weight"
   ]
  },
  {
   "cell_type": "code",
   "execution_count": 33,
   "metadata": {},
   "outputs": [],
   "source": [
    "#del item_item, item_stacked, item_sorted"
   ]
  }
 ],
 "metadata": {
  "kernelspec": {
   "display_name": "Python 3",
   "language": "python",
   "name": "python3"
  },
  "language_info": {
   "codemirror_mode": {
    "name": "ipython",
    "version": 3
   },
   "file_extension": ".py",
   "mimetype": "text/x-python",
   "name": "python",
   "nbconvert_exporter": "python",
   "pygments_lexer": "ipython3",
   "version": "3.9.9"
  }
 },
 "nbformat": 4,
 "nbformat_minor": 4
}
