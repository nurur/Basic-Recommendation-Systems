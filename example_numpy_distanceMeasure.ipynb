{
 "cells": [
  {
   "cell_type": "markdown",
   "metadata": {},
   "source": [
    "# Numpy : Distance Measure"
   ]
  },
  {
   "cell_type": "code",
   "execution_count": 1,
   "metadata": {},
   "outputs": [],
   "source": [
    "import pandas as pd\n",
    "import numpy as np\n",
    "import scipy as sp"
   ]
  },
  {
   "cell_type": "code",
   "execution_count": 2,
   "metadata": {},
   "outputs": [],
   "source": [
    "import os, sys"
   ]
  },
  {
   "cell_type": "code",
   "execution_count": 3,
   "metadata": {},
   "outputs": [
    {
     "name": "stdout",
     "output_type": "stream",
     "text": [
      ".\n",
      "/Users/nururrahman/myRecSystem\n",
      "/Users/nururrahman/myRecSystem\n"
     ]
    }
   ],
   "source": [
    "print( os.curdir )\n",
    "print( os.getcwd() )\n",
    "print( os.path.abspath( os.getcwd() ) )"
   ]
  },
  {
   "cell_type": "markdown",
   "metadata": {},
   "source": [
    "## Data"
   ]
  },
  {
   "cell_type": "code",
   "execution_count": 4,
   "metadata": {},
   "outputs": [],
   "source": [
    "m = np.asarray([\n",
    "    [4,5,np.nan,5,1,np.nan,3,2],\n",
    "    [np.nan,3,4,3,1,2,1,np.nan],\n",
    "    [2,np.nan,1,3,np.nan,4,5,3]\n",
    "])"
   ]
  },
  {
   "cell_type": "code",
   "execution_count": 5,
   "metadata": {
    "scrolled": true
   },
   "outputs": [
    {
     "name": "stdout",
     "output_type": "stream",
     "text": [
      "(3, 8)\n",
      "[[ 4.  5. nan  5.  1. nan  3.  2.]\n",
      " [nan  3.  4.  3.  1.  2.  1. nan]\n",
      " [ 2. nan  1.  3. nan  4.  5.  3.]]\n"
     ]
    }
   ],
   "source": [
    "print(m.shape)\n",
    "print(m)"
   ]
  },
  {
   "cell_type": "markdown",
   "metadata": {},
   "source": [
    "## Case 1 : Treat Data Matrix as Boolean True and False"
   ]
  },
  {
   "cell_type": "code",
   "execution_count": 6,
   "metadata": {},
   "outputs": [
    {
     "name": "stdout",
     "output_type": "stream",
     "text": [
      "[[ True  True False  True  True False  True  True]\n",
      " [False  True  True  True  True  True  True False]\n",
      " [ True False  True  True False  True  True  True]]\n"
     ]
    }
   ],
   "source": [
    "m1 = np.where( np.isnan(m), False, True )\n",
    "print(m1)"
   ]
  },
  {
   "cell_type": "markdown",
   "metadata": {},
   "source": [
    "#### Jaccard Distance"
   ]
  },
  {
   "cell_type": "code",
   "execution_count": 7,
   "metadata": {},
   "outputs": [
    {
     "name": "stdout",
     "output_type": "stream",
     "text": [
      "Jaccard Distances AB, AC, BC : 0.5 0.5 0.5\n"
     ]
    }
   ],
   "source": [
    "intersection = np.logical_and(m1[0,:], m1[1,:])\n",
    "union = np.logical_or(m1[0,:], m1[1,:])\n",
    "jd_ab = intersection.sum() / float(union.sum())\n",
    "\n",
    "intersection = np.logical_and(m1[0,:], m1[2,:])\n",
    "union = np.logical_or(m1[0,:], m1[2,:])\n",
    "jd_ac = intersection.sum() / float(union.sum())\n",
    "\n",
    "intersection = np.logical_and(m1[1,:], m1[2,:])\n",
    "union = np.logical_or(m1[1,:], m1[2,:])\n",
    "jd_bc = intersection.sum() / float(union.sum())\n",
    "\n",
    "print( 'Jaccard Distances AB, AC, BC :', round(jd_ab,4), round(jd_ac,4), round(jd_bc,4) ) "
   ]
  },
  {
   "cell_type": "markdown",
   "metadata": {},
   "source": [
    "#### Cosine Distance"
   ]
  },
  {
   "cell_type": "code",
   "execution_count": 8,
   "metadata": {},
   "outputs": [
    {
     "name": "stdout",
     "output_type": "stream",
     "text": [
      "Cosine Distances AB, AC, BC : 0.1667 0.1667 0.1667\n"
     ]
    }
   ],
   "source": [
    "cos_ab = np.dot(m1[0,:], m1[1,:]) / (np.linalg.norm(m1[0,:]) * np.linalg.norm(m1[1,:]))\n",
    "cos_ac = np.dot(m1[0,:], m1[2,:]) / (np.linalg.norm(m1[0,:]) * np.linalg.norm(m1[2,:]))\n",
    "cos_bc = np.dot(m1[1,:], m1[2,:]) / (np.linalg.norm(m1[1,:]) * np.linalg.norm(m1[2,:]))\n",
    "\n",
    "print('Cosine Distances AB, AC, BC :', round(cos_ab,4), round(cos_ac,4), round(cos_bc,4) ) "
   ]
  },
  {
   "cell_type": "markdown",
   "metadata": {},
   "source": [
    "## Case 2 : Treat Data Matrix as Binary 0 and 1"
   ]
  },
  {
   "cell_type": "code",
   "execution_count": 9,
   "metadata": {},
   "outputs": [
    {
     "name": "stdout",
     "output_type": "stream",
     "text": [
      "[[1 1 0 1 0 0 1 0]\n",
      " [0 1 1 1 0 0 0 0]\n",
      " [0 0 0 1 0 1 1 1]]\n"
     ]
    }
   ],
   "source": [
    "m2 = np.where( np.isnan(m), 0, m)\n",
    "m2 = np.where( np.isin(m2, np.array([0,1,2])), 0, 1)\n",
    "print(m2)"
   ]
  },
  {
   "cell_type": "markdown",
   "metadata": {},
   "source": [
    "#### Jaccard Distance"
   ]
  },
  {
   "cell_type": "code",
   "execution_count": 10,
   "metadata": {},
   "outputs": [
    {
     "name": "stdout",
     "output_type": "stream",
     "text": [
      "Jaccard Distances AB, AC, BC : 0.4 0.3333 0.1667\n"
     ]
    }
   ],
   "source": [
    "intersection = np.logical_and(m2[0,:], m2[1,:])\n",
    "union = np.logical_or(m2[0,:], m2[1,:])\n",
    "jd_ab = intersection.sum() / float(union.sum())\n",
    "\n",
    "intersection = np.logical_and(m2[0,:], m2[2,:])\n",
    "union = np.logical_or(m2[0,:], m2[2,:])\n",
    "jd_ac = intersection.sum() / float(union.sum())\n",
    "\n",
    "intersection = np.logical_and(m2[1,:], m2[2,:])\n",
    "union = np.logical_or(m2[1,:], m2[2,:])\n",
    "jd_bc = intersection.sum() / float(union.sum())\n",
    "\n",
    "print( 'Jaccard Distances AB, AC, BC :', round(jd_ab,4), round(jd_ac,4), round(jd_bc,4) ) "
   ]
  },
  {
   "cell_type": "markdown",
   "metadata": {},
   "source": [
    "#### Cosine Distance"
   ]
  },
  {
   "cell_type": "code",
   "execution_count": 11,
   "metadata": {},
   "outputs": [
    {
     "name": "stdout",
     "output_type": "stream",
     "text": [
      "Cosine Distances AB, AC, BC : 0.5774 0.5 0.2887\n"
     ]
    }
   ],
   "source": [
    "cos_ab = np.dot(m2[0,:], m2[1,:]) / (np.linalg.norm(m2[0,:]) * np.linalg.norm(m2[1,:]))\n",
    "cos_ac = np.dot(m2[0,:], m2[2,:]) / (np.linalg.norm(m2[0,:]) * np.linalg.norm(m2[2,:]))\n",
    "cos_bc = np.dot(m2[1,:], m2[2,:]) / (np.linalg.norm(m2[1,:]) * np.linalg.norm(m2[2,:]))\n",
    "\n",
    "print( 'Cosine Distances AB, AC, BC :', round(cos_ab,4), round(cos_ac,4), round(cos_bc,4) ) "
   ]
  },
  {
   "cell_type": "code",
   "execution_count": 12,
   "metadata": {},
   "outputs": [
    {
     "data": {
      "text/plain": [
       "array([[ True,  True, False,  True, False, False,  True, False],\n",
       "       [False,  True,  True,  True, False, False, False, False],\n",
       "       [False, False, False,  True, False,  True,  True,  True]])"
      ]
     },
     "execution_count": 12,
     "metadata": {},
     "output_type": "execute_result"
    }
   ],
   "source": [
    "np.isin(m2, np.array([1,2]))"
   ]
  },
  {
   "cell_type": "markdown",
   "metadata": {},
   "source": [
    "## Case 3 : Treat Data Matrix as Numeric"
   ]
  },
  {
   "cell_type": "code",
   "execution_count": 13,
   "metadata": {},
   "outputs": [
    {
     "name": "stdout",
     "output_type": "stream",
     "text": [
      "[[ 0.66666667  1.66666667  0.          1.66666667 -2.33333333  0.\n",
      "  -0.33333333 -1.33333333]\n",
      " [ 0.          0.66666667  1.66666667  0.66666667 -1.33333333 -0.33333333\n",
      "  -1.33333333  0.        ]\n",
      " [-1.          0.         -2.          0.          0.          1.\n",
      "   2.          0.        ]]\n"
     ]
    }
   ],
   "source": [
    "mean_val = np.nanmean(m, axis=1).reshape( m.shape[0], 1)\n",
    "m3 = m - mean_val\n",
    "m3 = np.where( np.isnan(m3), 0 , m3) \n",
    "print(m3)"
   ]
  },
  {
   "cell_type": "markdown",
   "metadata": {},
   "source": [
    "#### Jaccard Distance"
   ]
  },
  {
   "cell_type": "code",
   "execution_count": 14,
   "metadata": {},
   "outputs": [
    {
     "name": "stdout",
     "output_type": "stream",
     "text": [
      "Jaccard Distances AB, AC, BC : 0.5 0.25 0.4286\n"
     ]
    }
   ],
   "source": [
    "intersection = np.logical_and(m3[0,:], m3[1,:])\n",
    "union = np.logical_or(m3[0,:], m3[1,:])\n",
    "jd_ab = intersection.sum() / float(union.sum())\n",
    "\n",
    "intersection = np.logical_and(m3[0,:], m3[2,:])\n",
    "union = np.logical_or(m3[0,:], m3[2,:])\n",
    "jd_ac = intersection.sum() / float(union.sum())\n",
    "\n",
    "intersection = np.logical_and(m3[1,:], m3[2,:])\n",
    "union = np.logical_or(m3[1,:], m3[2,:])\n",
    "jd_bc = intersection.sum() / float(union.sum())\n",
    "\n",
    "print( 'Jaccard Distances AB, AC, BC :', round(jd_ab,4), round(jd_ac,4), round(jd_bc,4) ) "
   ]
  },
  {
   "cell_type": "markdown",
   "metadata": {},
   "source": [
    "#### Cosine Distance"
   ]
  },
  {
   "cell_type": "code",
   "execution_count": 15,
   "metadata": {},
   "outputs": [
    {
     "name": "stdout",
     "output_type": "stream",
     "text": [
      "Cosine Distances AB, AC, BC : 0.5843 -0.1155 -0.7396\n"
     ]
    }
   ],
   "source": [
    "cos_ab = np.dot(m3[0,:], m3[1,:]) / (np.linalg.norm(m3[0,:]) * np.linalg.norm(m3[1,:]))\n",
    "cos_ac = np.dot(m3[0,:], m3[2,:]) / (np.linalg.norm(m3[0,:]) * np.linalg.norm(m3[2,:]))\n",
    "cos_bc = np.dot(m3[1,:], m3[2,:]) / (np.linalg.norm(m3[1,:]) * np.linalg.norm(m3[2,:]))\n",
    "\n",
    "print( 'Cosine Distances AB, AC, BC :', round(cos_ab,4), round(cos_ac,4), round(cos_bc,4) ) "
   ]
  },
  {
   "cell_type": "code",
   "execution_count": 16,
   "metadata": {},
   "outputs": [
    {
     "name": "stdout",
     "output_type": "stream",
     "text": [
      "Cosine Angles AB, AC, BC : 0.9468 1.6865 2.4032\n"
     ]
    }
   ],
   "source": [
    "print( 'Cosine Angles AB, AC, BC :', \n",
    "      round(np.arccos(cos_ab),4), \n",
    "      round(np.arccos(cos_ac),4), \n",
    "      round(np.arccos(cos_bc),4) ) "
   ]
  },
  {
   "cell_type": "markdown",
   "metadata": {},
   "source": [
    "#### Pearson  Correlation"
   ]
  },
  {
   "cell_type": "code",
   "execution_count": 17,
   "metadata": {},
   "outputs": [
    {
     "name": "stdout",
     "output_type": "stream",
     "text": [
      "Pearson Correlation AB, AC, BC : 0.5843 -0.1155 -0.7396\n"
     ]
    }
   ],
   "source": [
    "cor_ab = np.corrcoef(m3[0,:], m3[1,:])[0,1]\n",
    "cor_ac = np.corrcoef(m3[0,:], m3[2,:])[0,1]\n",
    "cor_bc = np.corrcoef(m3[1,:], m3[2,:])[0,1]\n",
    "\n",
    "print( 'Pearson Correlation AB, AC, BC :', round(cor_ab,4), round(cor_ac,4), round(cor_bc,4) ) "
   ]
  },
  {
   "cell_type": "markdown",
   "metadata": {},
   "source": [
    "#### Set Appraoch"
   ]
  },
  {
   "cell_type": "code",
   "execution_count": 18,
   "metadata": {},
   "outputs": [
    {
     "name": "stdout",
     "output_type": "stream",
     "text": [
      "AB, AC, BC : 0.8333 0.1667 0.2\n"
     ]
    }
   ],
   "source": [
    "intersection = set(m3[0,:]).intersection( set(m3[1,:]) )\n",
    "union = set(m3[0,:]).union( set(m3[1,:]) )\n",
    "ab = len(intersection)/len(union)\n",
    "\n",
    "intersection = set(m3[0,:]).intersection( set(m3[2,:]) )\n",
    "union = set(m3[0,:]).union( set(m3[1,:]) )\n",
    "ac = len(intersection)/len(union)\n",
    "\n",
    "intersection = set(m3[1,:]).intersection( set(m3[2,:]) )\n",
    "union = set(m3[1,:]).union( set(m3[1,:]) )\n",
    "bc = len(intersection)/len(union)\n",
    "\n",
    "print( 'AB, AC, BC :', round(ab,4), round(ac,4), round(bc,4) ) "
   ]
  }
 ],
 "metadata": {
  "kernelspec": {
   "display_name": "Python 3",
   "language": "python",
   "name": "python3"
  },
  "language_info": {
   "codemirror_mode": {
    "name": "ipython",
    "version": 3
   },
   "file_extension": ".py",
   "mimetype": "text/x-python",
   "name": "python",
   "nbconvert_exporter": "python",
   "pygments_lexer": "ipython3",
   "version": "3.9.9"
  }
 },
 "nbformat": 4,
 "nbformat_minor": 4
}
