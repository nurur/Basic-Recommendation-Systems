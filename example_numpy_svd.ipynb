{
 "cells": [
  {
   "cell_type": "code",
   "execution_count": 1,
   "metadata": {},
   "outputs": [],
   "source": [
    "import numpy as np\n",
    "import pandas as pd"
   ]
  },
  {
   "cell_type": "markdown",
   "metadata": {},
   "source": [
    "## Example 1"
   ]
  },
  {
   "cell_type": "code",
   "execution_count": 2,
   "metadata": {},
   "outputs": [],
   "source": [
    "utility = np.array(\n",
    "    [[3,4,3,1],\n",
    "     [1,3,2,6],\n",
    "     [2,4,1,5],\n",
    "     [3,3,5,2]]\n",
    ")"
   ]
  },
  {
   "cell_type": "code",
   "execution_count": 3,
   "metadata": {},
   "outputs": [],
   "source": [
    "U, S, V = np.linalg.svd(utility, full_matrices=True)"
   ]
  },
  {
   "cell_type": "code",
   "execution_count": 4,
   "metadata": {},
   "outputs": [
    {
     "name": "stdout",
     "output_type": "stream",
     "text": [
      "(4, 4) (4,) (4, 4)\n"
     ]
    }
   ],
   "source": [
    "print(U.shape, S.shape, V.shape)"
   ]
  },
  {
   "cell_type": "code",
   "execution_count": 5,
   "metadata": {},
   "outputs": [
    {
     "name": "stdout",
     "output_type": "stream",
     "text": [
      "[[-0.43124523  0.49315012 -0.55075835 -0.51719991]\n",
      " [-0.53273754 -0.53052572  0.41966021 -0.50854546]\n",
      " [-0.52374556 -0.40520071 -0.48729169  0.5692537 ]\n",
      " [-0.50587435  0.5578152   0.53206894  0.38708653]]\n"
     ]
    }
   ],
   "source": [
    "print(U)"
   ]
  },
  {
   "cell_type": "code",
   "execution_count": 6,
   "metadata": {},
   "outputs": [
    {
     "name": "stdout",
     "output_type": "stream",
     "text": [
      "[12.22151125  4.92815942  2.06380839  0.29766152]\n"
     ]
    }
   ],
   "source": [
    "print(S)"
   ]
  },
  {
   "cell_type": "code",
   "execution_count": 7,
   "metadata": {},
   "outputs": [
    {
     "name": "stdout",
     "output_type": "stream",
     "text": [
      "[[-0.3593326  -0.56750746 -0.4428526  -0.59388293]\n",
      " [ 0.36767659  0.08799758  0.56862492 -0.73057242]\n",
      " [-0.29605046 -0.62845599  0.65902357  0.28824492]\n",
      " [ 0.80501437 -0.52462823 -0.21502376  0.17459057]]\n"
     ]
    }
   ],
   "source": [
    "print(V)"
   ]
  },
  {
   "cell_type": "code",
   "execution_count": 8,
   "metadata": {},
   "outputs": [
    {
     "name": "stdout",
     "output_type": "stream",
     "text": [
      "[[-0.3593326   0.36767659 -0.29605046  0.80501437]\n",
      " [-0.56750746  0.08799758 -0.62845599 -0.52462823]\n",
      " [-0.4428526   0.56862492  0.65902357 -0.21502376]\n",
      " [-0.59388293 -0.73057242  0.28824492  0.17459057]]\n"
     ]
    }
   ],
   "source": [
    "print(V.T)"
   ]
  },
  {
   "cell_type": "markdown",
   "metadata": {},
   "source": [
    "#### Check"
   ]
  },
  {
   "cell_type": "code",
   "execution_count": 9,
   "metadata": {},
   "outputs": [
    {
     "data": {
      "text/plain": [
       "array([[3., 4., 3., 1.],\n",
       "       [1., 3., 2., 6.],\n",
       "       [2., 4., 1., 5.],\n",
       "       [3., 3., 5., 2.]])"
      ]
     },
     "execution_count": 9,
     "metadata": {},
     "output_type": "execute_result"
    }
   ],
   "source": [
    "Sp = S*np.identity(4)\n",
    "np.matmul( np.matmul(U,Sp), V)"
   ]
  },
  {
   "cell_type": "code",
   "execution_count": 10,
   "metadata": {},
   "outputs": [],
   "source": [
    "alice = np.array([[5,3,4,4]])"
   ]
  },
  {
   "cell_type": "code",
   "execution_count": 11,
   "metadata": {},
   "outputs": [
    {
     "data": {
      "text/plain": [
       "array([[12.22151125,  0.        ],\n",
       "       [ 0.        ,  4.92815942]])"
      ]
     },
     "execution_count": 11,
     "metadata": {},
     "output_type": "execute_result"
    }
   ],
   "source": [
    "Sp[0:2,0:2]"
   ]
  },
  {
   "cell_type": "code",
   "execution_count": 12,
   "metadata": {},
   "outputs": [
    {
     "data": {
      "text/plain": [
       "array([[-5.27046838,  2.43032242],\n",
       "       [-6.51085779, -2.61451534],\n",
       "       [-6.40096231, -1.99689367],\n",
       "       [-6.18254905,  2.74900225]])"
      ]
     },
     "execution_count": 12,
     "metadata": {},
     "output_type": "execute_result"
    }
   ],
   "source": [
    "np.matmul( U[:,0:2], Sp[0:2,0:2] ) "
   ]
  },
  {
   "cell_type": "code",
   "execution_count": 13,
   "metadata": {},
   "outputs": [
    {
     "data": {
      "text/plain": [
       "array([[-2.12524522,  6.02703977],\n",
       "       [-2.6254155 , -6.48382611],\n",
       "       [-2.58110164, -4.95216498],\n",
       "       [-2.49302944,  6.81734479]])"
      ]
     },
     "execution_count": 13,
     "metadata": {},
     "output_type": "execute_result"
    }
   ],
   "source": [
    "np.matmul( U[:,0:2], np.flip(Sp[0:2,0:2]) )"
   ]
  },
  {
   "cell_type": "code",
   "execution_count": 14,
   "metadata": {},
   "outputs": [
    {
     "data": {
      "text/plain": [
       "array([[-0.64418534,  0.30125475]])"
      ]
     },
     "execution_count": 14,
     "metadata": {},
     "output_type": "execute_result"
    }
   ],
   "source": [
    "np.matmul( alice, np.matmul( U[:,0:2], np.linalg.inv(Sp[0:2,0:2]) ) )"
   ]
  },
  {
   "cell_type": "markdown",
   "metadata": {},
   "source": [
    "## Example 2"
   ]
  },
  {
   "cell_type": "code",
   "execution_count": 15,
   "metadata": {},
   "outputs": [],
   "source": [
    "utility = np.array(\n",
    "    [[3,4,3,1],\n",
    "     [1,3,2,6],\n",
    "     [2,4,1,5],\n",
    "     [3,3,5,2],\n",
    "     [2,4,2,3]]\n",
    ")"
   ]
  },
  {
   "cell_type": "code",
   "execution_count": 16,
   "metadata": {},
   "outputs": [],
   "source": [
    "U, S, V = np.linalg.svd(utility, full_matrices=True)"
   ]
  },
  {
   "cell_type": "code",
   "execution_count": 17,
   "metadata": {},
   "outputs": [
    {
     "name": "stdout",
     "output_type": "stream",
     "text": [
      "(5, 5) (4,) (4, 4)\n"
     ]
    }
   ],
   "source": [
    "print(U.shape, S.shape, V.shape)"
   ]
  },
  {
   "cell_type": "code",
   "execution_count": 18,
   "metadata": {},
   "outputs": [
    {
     "name": "stdout",
     "output_type": "stream",
     "text": [
      "[[-0.39382072  0.49212624 -0.43957909  0.05839415 -0.63724199]\n",
      " [-0.48098574 -0.53234963  0.47005676  0.31062125 -0.40965556]\n",
      " [-0.47670639 -0.40655167 -0.35918349 -0.67126706  0.16689671]\n",
      " [-0.45635021  0.55596836  0.57998722 -0.25130729  0.28827614]\n",
      " [-0.42196381  0.00552788 -0.34701428  0.62157039  0.56137984]]\n"
     ]
    }
   ],
   "source": [
    "print(U)"
   ]
  },
  {
   "cell_type": "code",
   "execution_count": 19,
   "metadata": {},
   "outputs": [
    {
     "name": "stdout",
     "output_type": "stream",
     "text": [
      "[13.4736313   4.92825029  2.23060476  0.44498448]\n"
     ]
    }
   ],
   "source": [
    "print(S)"
   ]
  },
  {
   "cell_type": "code",
   "execution_count": 20,
   "metadata": {},
   "outputs": [
    {
     "name": "stdout",
     "output_type": "stream",
     "text": [
      "[[-0.3583918  -0.59241428 -0.42644916 -0.58201526]\n",
      " [ 0.3672473   0.08832059  0.56734646 -0.73174237]\n",
      " [-0.23362023 -0.64241569  0.65816246  0.31550887]\n",
      " [-0.82589729  0.47806576  0.25115989 -0.16206636]]\n"
     ]
    }
   ],
   "source": [
    "print(V)"
   ]
  },
  {
   "cell_type": "code",
   "execution_count": 21,
   "metadata": {},
   "outputs": [
    {
     "name": "stdout",
     "output_type": "stream",
     "text": [
      "[[-0.3583918   0.3672473  -0.23362023 -0.82589729]\n",
      " [-0.59241428  0.08832059 -0.64241569  0.47806576]\n",
      " [-0.42644916  0.56734646  0.65816246  0.25115989]\n",
      " [-0.58201526 -0.73174237  0.31550887 -0.16206636]]\n"
     ]
    }
   ],
   "source": [
    "print(V.T)"
   ]
  },
  {
   "cell_type": "markdown",
   "metadata": {},
   "source": [
    "#### Check"
   ]
  },
  {
   "cell_type": "code",
   "execution_count": 22,
   "metadata": {},
   "outputs": [
    {
     "data": {
      "text/plain": [
       "array([[13.4736313 ,  0.        ,  0.        ,  0.        ],\n",
       "       [ 0.        ,  4.92825029,  0.        ,  0.        ],\n",
       "       [ 0.        ,  0.        ,  2.23060476,  0.        ],\n",
       "       [ 0.        ,  0.        ,  0.        ,  0.44498448],\n",
       "       [ 0.        ,  0.        ,  0.        ,  0.        ]])"
      ]
     },
     "execution_count": 22,
     "metadata": {},
     "output_type": "execute_result"
    }
   ],
   "source": [
    "Sp = np.zeros(20).reshape(5,4)\n",
    "Sp[0,0] = S[0]\n",
    "Sp[1,1] = S[1]\n",
    "Sp[2,2] = S[2]\n",
    "Sp[3,3] = S[3]\n",
    "Sp"
   ]
  },
  {
   "cell_type": "code",
   "execution_count": 23,
   "metadata": {},
   "outputs": [
    {
     "data": {
      "text/plain": [
       "array([[3., 4., 3., 1.],\n",
       "       [1., 3., 2., 6.],\n",
       "       [2., 4., 1., 5.],\n",
       "       [3., 3., 5., 2.],\n",
       "       [2., 4., 2., 3.]])"
      ]
     },
     "execution_count": 23,
     "metadata": {},
     "output_type": "execute_result"
    }
   ],
   "source": [
    "np.matmul( np.matmul(U,Sp), V)"
   ]
  }
 ],
 "metadata": {
  "kernelspec": {
   "display_name": "Python 3",
   "language": "python",
   "name": "python3"
  },
  "language_info": {
   "codemirror_mode": {
    "name": "ipython",
    "version": 3
   },
   "file_extension": ".py",
   "mimetype": "text/x-python",
   "name": "python",
   "nbconvert_exporter": "python",
   "pygments_lexer": "ipython3",
   "version": "3.9.9"
  }
 },
 "nbformat": 4,
 "nbformat_minor": 4
}
