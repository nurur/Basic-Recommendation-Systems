{
 "cells": [
  {
   "cell_type": "markdown",
   "id": "23e040f7",
   "metadata": {},
   "source": [
    "#  Python Package : AST  "
   ]
  },
  {
   "cell_type": "code",
   "execution_count": 1,
   "id": "7e538b79",
   "metadata": {},
   "outputs": [],
   "source": [
    "import ast"
   ]
  },
  {
   "cell_type": "code",
   "execution_count": 2,
   "id": "25996bca",
   "metadata": {},
   "outputs": [
    {
     "data": {
      "text/plain": [
       "[{'a': 1, 'b': 2}, {}, {'c': 1}, {'d': None, 'e': None}]"
      ]
     },
     "execution_count": 2,
     "metadata": {},
     "output_type": "execute_result"
    }
   ],
   "source": [
    "a = \"[{'a':1, 'b':2}, {}, {'c':1},{'d':None,'e':None}]\"\n",
    "ast.literal_eval(a)"
   ]
  },
  {
   "cell_type": "code",
   "execution_count": 7,
   "id": "aa195b79",
   "metadata": {},
   "outputs": [
    {
     "name": "stdout",
     "output_type": "stream",
     "text": [
      "<ast.Module object at 0x10a9bfeb0>\n"
     ]
    }
   ],
   "source": [
    " # Creating AST  \n",
    "code = ast.parse(\"print('Welcome To Python Pool')\")  \n",
    "print(code)  "
   ]
  },
  {
   "cell_type": "code",
   "execution_count": 5,
   "id": "d803b2e7",
   "metadata": {},
   "outputs": [
    {
     "name": "stdout",
     "output_type": "stream",
     "text": [
      "Module(body=[Expr(value=Call(func=Name(id='print', ctx=Load()), args=[Constant(value='Welcome To PythonPool')], keywords=[]))], type_ignores=[])\n"
     ]
    }
   ],
   "source": [
    "# Printing AST\n",
    "print(ast.dump(code))"
   ]
  },
  {
   "cell_type": "code",
   "execution_count": 6,
   "id": "3a0d39cc",
   "metadata": {},
   "outputs": [
    {
     "name": "stdout",
     "output_type": "stream",
     "text": [
      "Welcome To PythonPool\n"
     ]
    }
   ],
   "source": [
    "# Executing AST\n",
    "exec(compile(code, filename=\"\", mode=\"exec\"))"
   ]
  },
  {
   "cell_type": "code",
   "execution_count": 19,
   "id": "49dfc959",
   "metadata": {},
   "outputs": [
    {
     "name": "stdout",
     "output_type": "stream",
     "text": [
      "Help on class arguments in module ast:\n",
      "\n",
      "class arguments(AST)\n",
      " |  arguments(arg* posonlyargs, arg* args, arg? vararg, arg* kwonlyargs, expr* kw_defaults, arg? kwarg, expr* defaults)\n",
      " |  \n",
      " |  Method resolution order:\n",
      " |      arguments\n",
      " |      AST\n",
      " |      builtins.object\n",
      " |  \n",
      " |  Data descriptors defined here:\n",
      " |  \n",
      " |  __weakref__\n",
      " |      list of weak references to the object (if defined)\n",
      " |  \n",
      " |  ----------------------------------------------------------------------\n",
      " |  Data and other attributes defined here:\n",
      " |  \n",
      " |  vararg = None\n",
      " |  \n",
      " |  kwarg = None\n",
      " |  \n",
      " |  _attributes = ()\n",
      " |  \n",
      " |  _fields = ('posonlyargs', 'args', 'vararg', 'kwonlyargs', 'kw_defaults...\n",
      " |  \n",
      " |  ----------------------------------------------------------------------\n",
      " |  Methods inherited from AST:\n",
      " |  \n",
      " |  __delattr__(self, name, /)\n",
      " |      Implement delattr(self, name).\n",
      " |  \n",
      " |  __getattribute__(self, name, /)\n",
      " |      Return getattr(self, name).\n",
      " |  \n",
      " |  __init__(self, /, *args, **kwargs)\n",
      " |      Initialize self.  See help(type(self)) for accurate signature.\n",
      " |  \n",
      " |  __reduce__(...)\n",
      " |      Helper for pickle.\n",
      " |  \n",
      " |  __setattr__(self, name, value, /)\n",
      " |      Implement setattr(self, name, value).\n",
      " |  \n",
      " |  ----------------------------------------------------------------------\n",
      " |  Static methods inherited from AST:\n",
      " |  \n",
      " |  __new__(*args, **kwargs) from builtins.type\n",
      " |      Create and return a new object.  See help(type) for accurate signature.\n",
      " |  \n",
      " |  ----------------------------------------------------------------------\n",
      " |  Data descriptors inherited from AST:\n",
      " |  \n",
      " |  __dict__\n",
      "\n"
     ]
    }
   ],
   "source": [
    "help(ast.arguments)"
   ]
  },
  {
   "cell_type": "code",
   "execution_count": null,
   "id": "4f99b213",
   "metadata": {},
   "outputs": [],
   "source": []
  },
  {
   "cell_type": "code",
   "execution_count": null,
   "id": "44af84c7",
   "metadata": {},
   "outputs": [],
   "source": []
  },
  {
   "cell_type": "code",
   "execution_count": null,
   "id": "31f56576",
   "metadata": {},
   "outputs": [],
   "source": []
  },
  {
   "cell_type": "markdown",
   "id": "b6817c28",
   "metadata": {},
   "source": [
    "#### Example "
   ]
  },
  {
   "cell_type": "code",
   "execution_count": 13,
   "id": "874d006e",
   "metadata": {},
   "outputs": [],
   "source": [
    "a = [[0,1,2,3], 1, [2,3], 9, [],6]"
   ]
  },
  {
   "cell_type": "code",
   "execution_count": 14,
   "id": "e00c9588",
   "metadata": {},
   "outputs": [
    {
     "data": {
      "text/plain": [
       "[[0, 1, 2, 3], [2, 3], []]"
      ]
     },
     "execution_count": 14,
     "metadata": {},
     "output_type": "execute_result"
    }
   ],
   "source": [
    "[x for x in a if isinstance(x, list)]"
   ]
  },
  {
   "cell_type": "code",
   "execution_count": 15,
   "id": "12dc7abd",
   "metadata": {},
   "outputs": [
    {
     "data": {
      "text/plain": [
       "[[0, 1, 2, 3], [2, 3], []]"
      ]
     },
     "execution_count": 15,
     "metadata": {},
     "output_type": "execute_result"
    }
   ],
   "source": [
    "[x for x in a if type(x)==list]"
   ]
  },
  {
   "cell_type": "code",
   "execution_count": null,
   "id": "e4d9922e",
   "metadata": {},
   "outputs": [],
   "source": []
  }
 ],
 "metadata": {
  "kernelspec": {
   "display_name": "Python 3",
   "language": "python",
   "name": "python3"
  },
  "language_info": {
   "codemirror_mode": {
    "name": "ipython",
    "version": 3
   },
   "file_extension": ".py",
   "mimetype": "text/x-python",
   "name": "python",
   "nbconvert_exporter": "python",
   "pygments_lexer": "ipython3",
   "version": "3.9.13"
  }
 },
 "nbformat": 4,
 "nbformat_minor": 5
}
